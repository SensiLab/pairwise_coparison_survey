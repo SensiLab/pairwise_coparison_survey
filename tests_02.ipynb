{
 "cells": [
  {
   "cell_type": "code",
   "execution_count": 1,
   "metadata": {},
   "outputs": [],
   "source": [
    "import base64\n",
    "from fabric.connection import Connection\n",
    "import sqlite3"
   ]
  },
  {
   "cell_type": "code",
   "execution_count": 2,
   "metadata": {},
   "outputs": [],
   "source": [
    "pw = base64.b64decode('QERvczcwTnVldmU=').decode(\"utf-8\")\n",
    "with Connection('165.232.159.155', 'camilo', connect_kwargs={\"password\": pw}) as c:\n",
    "    voters = c.get('/home/camilo/survey/voters.db')\n",
    "    matches = c.get('/home/camilo/survey/matches.db')\n",
    "    orgs = c.get('/home/camilo/survey/organisms.db')\n",
    "    linedrawings = c.get('/home/camilo/survey/linedrawings.db')\n",
    "    lomas = c.get('/home/camilo/survey/lomas.db')\n",
    "\n",
    "#     for line in file:\n",
    "#     con = sqlite3.connect('/home/camilo/survey_backup/survey/voters.db')\n",
    "#     con.close()"
   ]
  },
  {
   "cell_type": "code",
   "execution_count": null,
   "metadata": {},
   "outputs": [],
   "source": []
  },
  {
   "cell_type": "code",
   "execution_count": null,
   "metadata": {},
   "outputs": [],
   "source": []
  }
 ],
 "metadata": {
  "kernelspec": {
   "display_name": "webdev",
   "language": "python",
   "name": "webdev"
  },
  "language_info": {
   "codemirror_mode": {
    "name": "ipython",
    "version": 3
   },
   "file_extension": ".py",
   "mimetype": "text/x-python",
   "name": "python",
   "nbconvert_exporter": "python",
   "pygments_lexer": "ipython3",
   "version": "3.9.2"
  }
 },
 "nbformat": 4,
 "nbformat_minor": 5
}
