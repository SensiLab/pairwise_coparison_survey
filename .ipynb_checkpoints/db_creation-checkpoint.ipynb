{
 "cells": [
  {
   "cell_type": "code",
   "execution_count": 11,
   "id": "simple-winter",
   "metadata": {},
   "outputs": [],
   "source": [
    "from flask import Flask, render_template, request\n",
    "from flask_sqlalchemy import SQLAlchemy\n",
    "from survey import Voter, Match, OrgsDb, LineDrawings, Lomas, db\n",
    "from os import listdir\n",
    "from os.path import join, isdir, isfile"
   ]
  },
  {
   "cell_type": "code",
   "execution_count": 12,
   "id": "worldwide-lafayette",
   "metadata": {},
   "outputs": [],
   "source": [
    "\n",
    "root_path1 = 'static/imgs/db1/'\n",
    "\n",
    "\n",
    "dir1 = [d for d in listdir(root_path1) if '.DS_Store' not in d]\n",
    "# dir1\n",
    "file_names_db1 = []\n",
    "for d1 in dir1:\n",
    "    p1 = join(root_path1, d1)\n",
    "    for f in listdir(p1):\n",
    "        fn = join(d1,f)\n",
    "        if '.DS_Store' not in fn:\n",
    "#             print(fn)\n",
    "            file_names_db1.append(join('db1/',fn))\n",
    "\n",
    "#     for d2 in listdir(join(root_path1, d1)):\n",
    "#         p2 = join(d1,d2)\n",
    "#         if '.DS_Store' not in d2:\n",
    "#             for f in listdir(join(root_path1,p2)):\n",
    "#                 if '.DS_Store' not in f:\n",
    "#                     fn = join(p2,f)\n",
    "#                     file_names_db1.append(join('db1/',fn))\n",
    "# #                 print(join(p2,f))\n",
    "# #         if '.DS_Store' not in d2:\n",
    "# #             for f in listprint(join(d1,d2))"
   ]
  },
  {
   "cell_type": "code",
   "execution_count": 13,
   "id": "ranging-florida",
   "metadata": {},
   "outputs": [],
   "source": [
    "root_path2 = 'static/imgs/db2/'\n",
    "file_names_db2 = []\n",
    "for f in listdir(root_path2):\n",
    "    if '.DS_Store' not in f:\n",
    "        fn = join('db2/',f)\n",
    "        file_names_db2.append(fn)\n",
    "#         print(fn)"
   ]
  },
  {
   "cell_type": "code",
   "execution_count": 14,
   "id": "apart-benchmark",
   "metadata": {},
   "outputs": [],
   "source": [
    "root_path3 = 'static/imgs/db3/'\n",
    "file_names_db3 = []\n",
    "for f in listdir(root_path3):\n",
    "    if '.DS_Store' not in f:\n",
    "        fn = join('db3/',f)\n",
    "        file_names_db3.append(fn)\n",
    "#         print(fn)"
   ]
  },
  {
   "cell_type": "code",
   "execution_count": 15,
   "id": "broadband-situation",
   "metadata": {},
   "outputs": [],
   "source": [
    "for fn in file_names_db1:\n",
    "    new_img = OrgsDb(file_name=fn)\n",
    "    db.session.add(new_img)\n",
    "\n",
    "for fn in file_names_db2:\n",
    "    new_img = LineDrawings(file_name=fn)\n",
    "#     print(new_img)\n",
    "    db.session.add(new_img)\n",
    "\n",
    "\n",
    "for fn in file_names_db3:\n",
    "    new_img = Lomas(file_name=fn)\n",
    "    db.session.add(new_img)\n",
    "    \n",
    "db.session.commit()\n",
    "db.session.close()"
   ]
  },
  {
   "cell_type": "code",
   "execution_count": 17,
   "id": "according-advisory",
   "metadata": {},
   "outputs": [],
   "source": [
    "# for i in OrgsDb.query.all():\n",
    "#     print(i.file_name)"
   ]
  },
  {
   "cell_type": "code",
   "execution_count": null,
   "id": "talented-civilization",
   "metadata": {},
   "outputs": [],
   "source": []
  }
 ],
 "metadata": {
  "kernelspec": {
   "display_name": "webdev",
   "language": "python",
   "name": "webdev"
  },
  "language_info": {
   "codemirror_mode": {
    "name": "ipython",
    "version": 3
   },
   "file_extension": ".py",
   "mimetype": "text/x-python",
   "name": "python",
   "nbconvert_exporter": "python",
   "pygments_lexer": "ipython3",
   "version": "3.9.2"
  }
 },
 "nbformat": 4,
 "nbformat_minor": 5
}
