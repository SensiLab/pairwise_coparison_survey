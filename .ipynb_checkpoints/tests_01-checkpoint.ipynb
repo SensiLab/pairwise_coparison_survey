{
 "cells": [
  {
   "cell_type": "markdown",
   "metadata": {},
   "source": [
    "# The Enigma of Complexity Survey\n",
    "\n",
    "## A brief overview of the back end\n",
    "\n",
    "![alt text](FlowChart.png \"Title\")"
   ]
  },
  {
   "cell_type": "code",
   "execution_count": 10,
   "metadata": {},
   "outputs": [],
   "source": [
    "import math\n",
    "import matplotlib.pyplot as plt\n",
    "import numpy as np\n",
    "import pandas as pd\n",
    "import random\n",
    "# from survey import Match, Lomas, OrgsDb, LineDrawings"
   ]
  },
  {
   "cell_type": "markdown",
   "metadata": {},
   "source": [
    "## Dataset\n",
    "We start with data that we want to evaluate (images in our case)"
   ]
  },
  {
   "cell_type": "code",
   "execution_count": 110,
   "metadata": {},
   "outputs": [
    {
     "data": {
      "text/html": [
       "<div>\n",
       "<style scoped>\n",
       "    .dataframe tbody tr th:only-of-type {\n",
       "        vertical-align: middle;\n",
       "    }\n",
       "\n",
       "    .dataframe tbody tr th {\n",
       "        vertical-align: top;\n",
       "    }\n",
       "\n",
       "    .dataframe thead th {\n",
       "        text-align: right;\n",
       "    }\n",
       "</style>\n",
       "<table border=\"1\" class=\"dataframe\">\n",
       "  <thead>\n",
       "    <tr style=\"text-align: right;\">\n",
       "      <th></th>\n",
       "      <th>rating</th>\n",
       "      <th>RD</th>\n",
       "      <th>matches</th>\n",
       "    </tr>\n",
       "  </thead>\n",
       "  <tbody>\n",
       "    <tr>\n",
       "      <th>0</th>\n",
       "      <td>1500</td>\n",
       "      <td>350</td>\n",
       "      <td></td>\n",
       "    </tr>\n",
       "    <tr>\n",
       "      <th>1</th>\n",
       "      <td>1500</td>\n",
       "      <td>350</td>\n",
       "      <td></td>\n",
       "    </tr>\n",
       "    <tr>\n",
       "      <th>2</th>\n",
       "      <td>1500</td>\n",
       "      <td>350</td>\n",
       "      <td></td>\n",
       "    </tr>\n",
       "    <tr>\n",
       "      <th>3</th>\n",
       "      <td>1500</td>\n",
       "      <td>350</td>\n",
       "      <td></td>\n",
       "    </tr>\n",
       "    <tr>\n",
       "      <th>4</th>\n",
       "      <td>1500</td>\n",
       "      <td>350</td>\n",
       "      <td></td>\n",
       "    </tr>\n",
       "  </tbody>\n",
       "</table>\n",
       "</div>"
      ],
      "text/plain": [
       "   rating   RD matches\n",
       "0    1500  350        \n",
       "1    1500  350        \n",
       "2    1500  350        \n",
       "3    1500  350        \n",
       "4    1500  350        "
      ]
     },
     "execution_count": 110,
     "metadata": {},
     "output_type": "execute_result"
    }
   ],
   "source": [
    "# Create an empty dataset\n",
    "data = []\n",
    "\n",
    "# Populate teh dataset\n",
    "for i in range(20):\n",
    "    d = [1500, 350, '']\n",
    "    data.append(d)\n",
    "\n",
    "# put the data into a pandas dataframe so it's easier to work with\n",
    "test_db = pd.DataFrame(data, columns=['rating','RD','matches'])\n",
    "test_db.head()"
   ]
  },
  {
   "cell_type": "markdown",
   "metadata": {},
   "source": [
    "What we wanted to do was to rank these images in terms of their complexity and aesthetics, as perceived by people. There are several ways to do this, like showing them in isolation and asking for a direct rating. This causes some problems, like participants' fatigue and uncertainties due to the lack of context.\n",
    "\n",
    "As you know, we went with a pairwise comparison approach. This makes things faster and less ambiguous.\n",
    "\n",
    "The question then is how do we translate those comparisons into a ranking, so by the end of the process we have an idea of which images are more complex and/or liked."
   ]
  },
  {
   "cell_type": "markdown",
   "metadata": {},
   "source": [
    "## Update ratings function\n",
    "This function looks at the result of a match and the ratings and RDs of an individual and its oponent, and then calculates their new ratings and RDs based on who _'won'_ the match\n"
   ]
  },
  {
   "cell_type": "code",
   "execution_count": 102,
   "metadata": {},
   "outputs": [],
   "source": [
    "# def updateRating(s, r, rd, r_other, rd_other):\n",
    "def updateRating(s, winner, loser):\n",
    "    # s is the result of comparison (1 if selected, .5 if can't decide, 0 if not selected)\n",
    "    \n",
    "    r = float(winner['rating'])\n",
    "    rd = float(winner['RD'])\n",
    "    r_other = float(loser['rating'])\n",
    "    rd_other = float(loser['RD'])\n",
    "\n",
    "    \n",
    "    q = 0.00575646273   #constant (magic number?)\n",
    "    \n",
    "    \n",
    "    g_rd_other = 1/math.sqrt(1 + (3 * (q**2)*(rd_other**2)/pow(math.pi,2)))\n",
    "\n",
    "    # Expected outcome\n",
    "    e_exp = -g_rd_other * (r - r_other)/400\n",
    "    e = 1/(1 + pow(10,e_exp))\n",
    "    \n",
    "    d_square = pow(pow(q,2) * pow(g_rd_other,2)*e*(1-e),-1)\n",
    "    \n",
    "    r_new = r + (q/(1/(pow(rd,2)+(1/d_square))) * g_rd_other * (s - e))\n",
    "    rd_new = math.sqrt(pow((1/math.pow(rd,2))+(1/d_square),-1))\n",
    "    return r_new, rd_new"
   ]
  },
  {
   "cell_type": "markdown",
   "metadata": {},
   "source": [
    "## Test the function"
   ]
  },
  {
   "cell_type": "code",
   "execution_count": 113,
   "metadata": {},
   "outputs": [
    {
     "name": "stdout",
     "output_type": "stream",
     "text": [
      "New rating: 1500.0, new RD: 290.231\n"
     ]
    }
   ],
   "source": [
    "a = test_db.sample(n=1)\n",
    "b = test_db.sample(n=1)\n",
    "while a.index[0] == b.index[0]:\n",
    "    b = test_db.sample(n=1)\n",
    "updated = updateRating(0.5, a, b)\n",
    "print(f\"New rating: {round(updated[0],3)}, new RD: {round(updated[1],3)}\")"
   ]
  },
  {
   "cell_type": "markdown",
   "metadata": {},
   "source": [
    "## Matches or 'games'\n",
    "- Two database entries are selected randomly to compete aganinst each other.\n",
    "- The winner is determined using their rating as a probability of success.\n",
    "\n",
    "### First create a match function\n",
    "This function takes two entries from the database and randomly selects the winner using their ratings as probability"
   ]
  },
  {
   "cell_type": "code",
   "execution_count": 81,
   "metadata": {},
   "outputs": [],
   "source": [
    "def match(contenders):\n",
    "    \n",
    "    #normalise ratings\n",
    "    ratings = contenders['rating'].tolist()\n",
    "    norm_ratings = [r/max(ratings) for r in ratings]\n",
    "    winner = contenders.sample(weights=norm_ratings)\n",
    "    return winner"
   ]
  },
  {
   "cell_type": "markdown",
   "metadata": {},
   "source": [
    "### Reset test database "
   ]
  },
  {
   "cell_type": "code",
   "execution_count": 118,
   "metadata": {},
   "outputs": [],
   "source": [
    "test_db = pd.DataFrame(data, columns=['rating','RD','matches'])"
   ]
  },
  {
   "cell_type": "markdown",
   "metadata": {},
   "source": [
    "### Store data as matches unfold"
   ]
  },
  {
   "cell_type": "code",
   "execution_count": 119,
   "metadata": {},
   "outputs": [],
   "source": [
    "avg_RD = []\n",
    "rating_var = []\n",
    "ind_r = []\n"
   ]
  },
  {
   "cell_type": "markdown",
   "metadata": {},
   "source": [
    "### Simulate a bunch of matches"
   ]
  },
  {
   "cell_type": "code",
   "execution_count": 122,
   "metadata": {},
   "outputs": [],
   "source": [
    "for i in range(1000):\n",
    "    # select contenders\n",
    "    contenders = test_db.sample(n=2)\n",
    "    #simulate match    \n",
    "    winner = match(contenders)\n",
    "    winner_index = winner.index[0]\n",
    "    loser = contenders.drop(winner_index)\n",
    "    loser_index = loser.index[0]\n",
    "    \n",
    "    #add match results to database\n",
    "    test_db.loc[winner_index,'matches']+=f'{loser_index}:1;'\n",
    "    test_db.loc[loser_index,'matches']+=f'{winner_index}:0;'\n",
    "    \n",
    "    #update ratings\n",
    "    winner_nr, winner_nRD = updateRating(1,winner, loser)\n",
    "    loser_nr, loser_nRD = updateRating(0,loser,winner)\n",
    "    \n",
    "    test_db.loc[winner_index,'rating'] = winner_nr\n",
    "    test_db.loc[winner_index,'RD'] = winner_nRD\n",
    "    \n",
    "    test_db.loc[loser_index,'rating'] = loser_nr\n",
    "    test_db.loc[loser_index,'RD'] = loser_nRD\n",
    "    \n",
    "#     a = contenders[:1]\n",
    "#     b = contenders[1:]\n",
    "    #record average RD\n",
    "    avg = np.mean(np.asarray(test_db['RD']))\n",
    "    avg_RD.append(avg)\n",
    "    \n",
    "    #record rating variance\n",
    "    rating_var.append(np.std(np.asarray(test_db['rating'])))\n",
    "    \n",
    "    #record rating of single entry\n",
    "    ind_r.append(float(test_db.loc[0,'rating']))\n",
    "        \n",
    "#     if avg <= 150:\n",
    "#         break\n",
    "    \n",
    "        \n",
    "\n",
    "    \n",
    "#     print(contenders)\n",
    "#     print(a['rating'])\n",
    "#     print(b.index[0])"
   ]
  },
  {
   "cell_type": "code",
   "execution_count": 123,
   "metadata": {},
   "outputs": [
    {
     "data": {
      "text/html": [
       "<div>\n",
       "<style scoped>\n",
       "    .dataframe tbody tr th:only-of-type {\n",
       "        vertical-align: middle;\n",
       "    }\n",
       "\n",
       "    .dataframe tbody tr th {\n",
       "        vertical-align: top;\n",
       "    }\n",
       "\n",
       "    .dataframe thead th {\n",
       "        text-align: right;\n",
       "    }\n",
       "</style>\n",
       "<table border=\"1\" class=\"dataframe\">\n",
       "  <thead>\n",
       "    <tr style=\"text-align: right;\">\n",
       "      <th></th>\n",
       "      <th>rating</th>\n",
       "      <th>RD</th>\n",
       "      <th>matches</th>\n",
       "    </tr>\n",
       "  </thead>\n",
       "  <tbody>\n",
       "    <tr>\n",
       "      <th>0</th>\n",
       "      <td>1504.174534</td>\n",
       "      <td>37.157554</td>\n",
       "      <td>3:0;3:0;6:0;3:0;17:1;1:0;14:1;17:1;17:0;7:1;11...</td>\n",
       "    </tr>\n",
       "    <tr>\n",
       "      <th>1</th>\n",
       "      <td>1538.198226</td>\n",
       "      <td>35.979238</td>\n",
       "      <td>8:0;18:0;5:0;12:1;19:1;4:1;13:0;0:1;7:0;17:1;6...</td>\n",
       "    </tr>\n",
       "    <tr>\n",
       "      <th>2</th>\n",
       "      <td>1523.464034</td>\n",
       "      <td>34.276176</td>\n",
       "      <td>12:1;14:1;18:1;11:1;16:1;17:1;8:1;6:0;13:1;11:...</td>\n",
       "    </tr>\n",
       "    <tr>\n",
       "      <th>3</th>\n",
       "      <td>1513.670700</td>\n",
       "      <td>33.796008</td>\n",
       "      <td>11:0;0:1;0:1;16:0;6:0;19:1;16:0;8:0;18:0;7:0;0...</td>\n",
       "    </tr>\n",
       "    <tr>\n",
       "      <th>4</th>\n",
       "      <td>1452.262495</td>\n",
       "      <td>33.599064</td>\n",
       "      <td>11:1;11:0;16:1;17:0;6:0;1:0;3:0;7:1;3:0;10:0;1...</td>\n",
       "    </tr>\n",
       "    <tr>\n",
       "      <th>5</th>\n",
       "      <td>1508.121454</td>\n",
       "      <td>35.010956</td>\n",
       "      <td>16:0;18:1;13:1;14:0;19:0;1:1;16:1;8:0;14:1;14:...</td>\n",
       "    </tr>\n",
       "    <tr>\n",
       "      <th>6</th>\n",
       "      <td>1451.589405</td>\n",
       "      <td>36.425141</td>\n",
       "      <td>3:1;8:1;18:1;0:1;2:1;15:1;4:1;3:0;13:1;17:1;18...</td>\n",
       "    </tr>\n",
       "    <tr>\n",
       "      <th>7</th>\n",
       "      <td>1459.980385</td>\n",
       "      <td>36.962704</td>\n",
       "      <td>17:1;3:1;3:1;4:0;1:1;19:1;2:1;14:0;0:0;11:0;17...</td>\n",
       "    </tr>\n",
       "    <tr>\n",
       "      <th>8</th>\n",
       "      <td>1524.217086</td>\n",
       "      <td>34.842966</td>\n",
       "      <td>12:1;1:1;9:0;17:1;6:0;9:0;3:1;2:0;16:1;5:1;11:...</td>\n",
       "    </tr>\n",
       "    <tr>\n",
       "      <th>9</th>\n",
       "      <td>1476.717970</td>\n",
       "      <td>34.482632</td>\n",
       "      <td>8:1;12:1;19:0;8:1;18:0;17:0;8:1;2:0;12:1;15:1;...</td>\n",
       "    </tr>\n",
       "    <tr>\n",
       "      <th>10</th>\n",
       "      <td>1434.629545</td>\n",
       "      <td>35.578070</td>\n",
       "      <td>14:1;18:1;18:1;19:1;19:0;1:0;6:1;18:0;3:0;4:1;...</td>\n",
       "    </tr>\n",
       "    <tr>\n",
       "      <th>11</th>\n",
       "      <td>1463.821320</td>\n",
       "      <td>34.398524</td>\n",
       "      <td>4:0;3:1;18:1;2:0;4:1;17:0;12:0;2:0;18:0;8:1;0:...</td>\n",
       "    </tr>\n",
       "    <tr>\n",
       "      <th>12</th>\n",
       "      <td>1517.102497</td>\n",
       "      <td>36.931555</td>\n",
       "      <td>8:0;2:0;9:0;1:0;13:1;14:0;11:1;5:0;19:0;9:0;19...</td>\n",
       "    </tr>\n",
       "    <tr>\n",
       "      <th>13</th>\n",
       "      <td>1523.089353</td>\n",
       "      <td>37.004119</td>\n",
       "      <td>5:0;18:0;12:0;16:1;2:0;1:1;19:0;6:0;3:1;1:0;11...</td>\n",
       "    </tr>\n",
       "    <tr>\n",
       "      <th>14</th>\n",
       "      <td>1515.464033</td>\n",
       "      <td>33.330329</td>\n",
       "      <td>5:1;10:0;2:0;12:1;18:1;5:0;5:0;3:1;0:0;19:0;7:...</td>\n",
       "    </tr>\n",
       "    <tr>\n",
       "      <th>15</th>\n",
       "      <td>1419.363072</td>\n",
       "      <td>36.463402</td>\n",
       "      <td>6:0;9:0;8:0;19:1;6:0;17:0;7:0;5:0;4:1;18:0;12:...</td>\n",
       "    </tr>\n",
       "    <tr>\n",
       "      <th>16</th>\n",
       "      <td>1533.313142</td>\n",
       "      <td>37.269482</td>\n",
       "      <td>5:1;19:0;3:1;18:1;3:1;5:0;4:0;2:0;13:0;8:0;8:1...</td>\n",
       "    </tr>\n",
       "    <tr>\n",
       "      <th>17</th>\n",
       "      <td>1518.457229</td>\n",
       "      <td>35.164997</td>\n",
       "      <td>8:0;7:0;2:0;4:1;11:1;0:0;18:0;0:0;9:1;1:0;6:0;...</td>\n",
       "    </tr>\n",
       "    <tr>\n",
       "      <th>18</th>\n",
       "      <td>1460.503735</td>\n",
       "      <td>35.891435</td>\n",
       "      <td>5:0;10:0;13:1;10:0;11:0;2:0;1:1;16:0;6:0;3:1;9...</td>\n",
       "    </tr>\n",
       "    <tr>\n",
       "      <th>19</th>\n",
       "      <td>1438.802072</td>\n",
       "      <td>33.624065</td>\n",
       "      <td>16:1;5:1;3:0;9:1;1:0;13:1;10:0;10:1;5:0;7:0;18...</td>\n",
       "    </tr>\n",
       "  </tbody>\n",
       "</table>\n",
       "</div>"
      ],
      "text/plain": [
       "         rating         RD                                            matches\n",
       "0   1504.174534  37.157554  3:0;3:0;6:0;3:0;17:1;1:0;14:1;17:1;17:0;7:1;11...\n",
       "1   1538.198226  35.979238  8:0;18:0;5:0;12:1;19:1;4:1;13:0;0:1;7:0;17:1;6...\n",
       "2   1523.464034  34.276176  12:1;14:1;18:1;11:1;16:1;17:1;8:1;6:0;13:1;11:...\n",
       "3   1513.670700  33.796008  11:0;0:1;0:1;16:0;6:0;19:1;16:0;8:0;18:0;7:0;0...\n",
       "4   1452.262495  33.599064  11:1;11:0;16:1;17:0;6:0;1:0;3:0;7:1;3:0;10:0;1...\n",
       "5   1508.121454  35.010956  16:0;18:1;13:1;14:0;19:0;1:1;16:1;8:0;14:1;14:...\n",
       "6   1451.589405  36.425141  3:1;8:1;18:1;0:1;2:1;15:1;4:1;3:0;13:1;17:1;18...\n",
       "7   1459.980385  36.962704  17:1;3:1;3:1;4:0;1:1;19:1;2:1;14:0;0:0;11:0;17...\n",
       "8   1524.217086  34.842966  12:1;1:1;9:0;17:1;6:0;9:0;3:1;2:0;16:1;5:1;11:...\n",
       "9   1476.717970  34.482632  8:1;12:1;19:0;8:1;18:0;17:0;8:1;2:0;12:1;15:1;...\n",
       "10  1434.629545  35.578070  14:1;18:1;18:1;19:1;19:0;1:0;6:1;18:0;3:0;4:1;...\n",
       "11  1463.821320  34.398524  4:0;3:1;18:1;2:0;4:1;17:0;12:0;2:0;18:0;8:1;0:...\n",
       "12  1517.102497  36.931555  8:0;2:0;9:0;1:0;13:1;14:0;11:1;5:0;19:0;9:0;19...\n",
       "13  1523.089353  37.004119  5:0;18:0;12:0;16:1;2:0;1:1;19:0;6:0;3:1;1:0;11...\n",
       "14  1515.464033  33.330329  5:1;10:0;2:0;12:1;18:1;5:0;5:0;3:1;0:0;19:0;7:...\n",
       "15  1419.363072  36.463402  6:0;9:0;8:0;19:1;6:0;17:0;7:0;5:0;4:1;18:0;12:...\n",
       "16  1533.313142  37.269482  5:1;19:0;3:1;18:1;3:1;5:0;4:0;2:0;13:0;8:0;8:1...\n",
       "17  1518.457229  35.164997  8:0;7:0;2:0;4:1;11:1;0:0;18:0;0:0;9:1;1:0;6:0;...\n",
       "18  1460.503735  35.891435  5:0;10:0;13:1;10:0;11:0;2:0;1:1;16:0;6:0;3:1;9...\n",
       "19  1438.802072  33.624065  16:1;5:1;3:0;9:1;1:0;13:1;10:0;10:1;5:0;7:0;18..."
      ]
     },
     "execution_count": 123,
     "metadata": {},
     "output_type": "execute_result"
    },
    {
     "data": {
      "image/png": "[encoded data removed]",
      "text/plain": [
       "<Figure size 432x288 with 1 Axes>"
      ]
     },
     "metadata": {
      "needs_background": "light"
     },
     "output_type": "display_data"
    }
   ],
   "source": [
    "# print(avg_RD)\n",
    "plt.plot(avg_RD)\n",
    "plt.plot(rating_var)\n",
    "plt.plot(ind_r)\n",
    "test_db"
   ]
  },
  {
   "cell_type": "code",
   "execution_count": null,
   "metadata": {},
   "outputs": [],
   "source": []
  },
  {
   "cell_type": "code",
   "execution_count": null,
   "metadata": {},
   "outputs": [],
   "source": []
  }
 ],
 "metadata": {
  "kernelspec": {
   "display_name": "data_analysis",
   "language": "python",
   "name": "data_analysis"
  },
  "language_info": {
   "codemirror_mode": {
    "name": "ipython",
    "version": 3
   },
   "file_extension": ".py",
   "mimetype": "text/x-python",
   "name": "python",
   "nbconvert_exporter": "python",
   "pygments_lexer": "ipython3",
   "version": "3.8.5"
  }
 },
 "nbformat": 4,
 "nbformat_minor": 5
}
