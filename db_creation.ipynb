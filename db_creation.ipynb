{
 "cells": [
  {
   "cell_type": "markdown",
   "id": "aquatic-accent",
   "metadata": {},
   "source": [
    "## Create databases\n",
    "This script will reset all the databases needed for the survey to run"
   ]
  },
  {
   "cell_type": "code",
   "execution_count": 22,
   "id": "separated-traveler",
   "metadata": {},
   "outputs": [],
   "source": [
    "from flask import Flask, render_template, request\n",
    "from flask_sqlalchemy import SQLAlchemy\n",
    "from models import Voter, Match, ImgSet1, ImgSet2, db\n",
    "from survey import app\n",
    "from os import listdir\n",
    "from os.path import join, isdir, isfile"
   ]
  },
  {
   "cell_type": "code",
   "execution_count": 16,
   "id": "continent-alignment",
   "metadata": {},
   "outputs": [],
   "source": [
    "with app.app_context():\n",
    "    db.create_all()"
   ]
  },
  {
   "cell_type": "code",
   "execution_count": 17,
   "id": "worthy-sapphire",
   "metadata": {},
   "outputs": [],
   "source": [
    "root_path1 = 'static/imgs/img_set1/'\n",
    "file_names_img_set1 = []\n",
    "for f in listdir(root_path1):\n",
    "    if '.DS_Store' not in f:\n",
    "        fn = join('img_set1/',f)\n",
    "        file_names_img_set1.append(fn)\n",
    "#         print(fn)"
   ]
  },
  {
   "cell_type": "code",
   "execution_count": 20,
   "id": "lesbian-supervision",
   "metadata": {},
   "outputs": [],
   "source": [
    "root_path2 = 'static/imgs/img_set2/'\n",
    "file_names_img_set2 = []\n",
    "for f in listdir(root_path2):\n",
    "    if '.DS_Store' not in f:\n",
    "        fn = join('img_set2/',f)\n",
    "        file_names_img_set2.append(fn)\n",
    "#         print(fn)"
   ]
  },
  {
   "cell_type": "code",
   "execution_count": 21,
   "id": "heard-chemical",
   "metadata": {},
   "outputs": [],
   "source": [
    "with app.app_context():\n",
    "    for fn in file_names_img_set1:\n",
    "        new_img = ImgSet1(file_name=fn)\n",
    "        db.session.add(new_img)\n",
    "\n",
    "    for fn in file_names_img_set2:\n",
    "        new_img = ImgSet2(file_name=fn)\n",
    "    #     print(new_img)\n",
    "        db.session.add(new_img)\n",
    "    \n",
    "    db.session.commit()\n",
    "    db.session.close()"
   ]
  },
  {
   "cell_type": "code",
   "execution_count": 17,
   "id": "fewer-bundle",
   "metadata": {},
   "outputs": [],
   "source": [
    "# for i in OrgsDb.query.all():\n",
    "#     print(i.file_name)"
   ]
  },
  {
   "cell_type": "code",
   "execution_count": null,
   "id": "positive-review",
   "metadata": {},
   "outputs": [],
   "source": []
  }
 ],
 "metadata": {
  "kernelspec": {
   "display_name": "webdev",
   "language": "python",
   "name": "webdev"
  },
  "language_info": {
   "codemirror_mode": {
    "name": "ipython",
    "version": 3
   },
   "file_extension": ".py",
   "mimetype": "text/x-python",
   "name": "python",
   "nbconvert_exporter": "python",
   "pygments_lexer": "ipython3",
   "version": "3.9.2"
  }
 },
 "nbformat": 4,
 "nbformat_minor": 5
}
